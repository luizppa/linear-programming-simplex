{
  "nbformat": 4,
  "nbformat_minor": 0,
  "metadata": {
    "colab": {
      "name": "tp1.ipynb",
      "provenance": [],
      "collapsed_sections": [],
      "authorship_tag": "ABX9TyP/mLqRCX82zPi9VufnjonH"
    },
    "kernelspec": {
      "name": "python3",
      "display_name": "Python 3"
    },
    "language_info": {
      "name": "python"
    }
  },
  "cells": [
    {
      "cell_type": "markdown",
      "metadata": {
        "id": "9jzXi7969AeI"
      },
      "source": [
        "Pesquisa Operacional: TP1\n",
        "\n",
        "Luiz Philippe Pereira Amaral - 2018054575\n",
        "\n",
        "# Simplex Algorithm"
      ]
    },
    {
      "cell_type": "code",
      "metadata": {
        "id": "w7sWLi0l2cUy"
      },
      "source": [
        "import numpy as np\n",
        "import math"
      ],
      "execution_count": null,
      "outputs": []
    },
    {
      "cell_type": "markdown",
      "metadata": {
        "id": "teVfj00r9d8V"
      },
      "source": [
        "## General purpose functions and classes"
      ]
    },
    {
      "cell_type": "markdown",
      "metadata": {
        "id": "ue-9OJCrzl0i"
      },
      "source": [
        "### Unbounded and unsolvable LPs\n",
        "\n",
        "We will be using exceptions to handle unbounded and unsolvable linear programming problems. Both cases will raise an exception that take as an argument an array representing it's respective certificate. "
      ]
    },
    {
      "cell_type": "code",
      "metadata": {
        "id": "YOA6mIfWOyBX"
      },
      "source": [
        "class LinearProgrammingException(Exception):\n",
        "  def __init__(self, *args):\n",
        "    self.message = args[0]\n",
        "    self.certificate = args[1]\n",
        "\n",
        "  def __str__(self):\n",
        "    return '{0}, certificate = {1}'.format(self.message, self.certificate)\n",
        "\n",
        "class UnboundedLinearProgramming(LinearProgrammingException):\n",
        "  def __init__(self, *args):\n",
        "    super(UnboundedLinearProgramming, self).__init__('Optimal value is infinite', args[0])\n",
        "\n",
        "class UnsolvableLinearProgramming(LinearProgrammingException):\n",
        "  def __init__(self, *args):\n",
        "    super(UnsolvableLinearProgramming, self).__init__('Linear programming has no solution', args[0])"
      ],
      "execution_count": null,
      "outputs": []
    },
    {
      "cell_type": "markdown",
      "metadata": {
        "id": "XPj7LZ8_2E6p"
      },
      "source": [
        "### Utilitary methods\n",
        "\n",
        "A few helper methods will auxiliate our algorithm such as:\n",
        "\n",
        "* ```is_optimal(tableaux)``` returns ```True``` if the tableaux has no negative $c_i$\n",
        "* ```is_unbounded(tableaux, pivot_col)``` returns ```True``` if a column of A has all negative entries\n",
        "* ```is_canonical(arr)``` returns ```True``` if a ```arr``` is a vector containing only 0's and 1's and the sum of it's components is equal to 1 (any array in form [0\\*, 1, 0\\*])."
      ]
    },
    {
      "cell_type": "code",
      "metadata": {
        "id": "R8APly_XR8En"
      },
      "source": [
        "def is_optimal(tableaux):\n",
        "  return all(c >= 0 for c in tableaux[0, :-1])"
      ],
      "execution_count": null,
      "outputs": []
    },
    {
      "cell_type": "code",
      "metadata": {
        "id": "3XAS3VV8OHQV"
      },
      "source": [
        "def is_unbounded(tableaux, pivot_col):\n",
        "  return all(a <= 0 for a in tableaux[1:, pivot_col])"
      ],
      "execution_count": null,
      "outputs": []
    },
    {
      "cell_type": "code",
      "metadata": {
        "id": "tEcy102OiR59"
      },
      "source": [
        "def is_canonical(arr):\n",
        "  sum = 0\n",
        "\n",
        "  for i in range(len(arr)):\n",
        "    if not np.isclose(arr[i], 1) and not np.isclose(arr[i], 0):\n",
        "      return False\n",
        "    sum += arr[i]\n",
        "  \n",
        "  return np.isclose(sum, 1)"
      ],
      "execution_count": null,
      "outputs": []
    },
    {
      "cell_type": "markdown",
      "metadata": {
        "id": "LfaOTTmP8-Ih"
      },
      "source": [
        "## The specifics"
      ]
    },
    {
      "cell_type": "markdown",
      "metadata": {
        "id": "78XufkNz6Ycv"
      },
      "source": [
        "### Building the tableaux\n",
        "\n",
        "The following cells are responsible for the manipulation of the tableaux used to solve the simplex. \n",
        "\n",
        "```build_tableaux(A, c, b)``` receives the matrix of constraints A and the vector b where $Ax = b$ on the linear programming and the vector of coeficients c, then proceeds to building the tableaux consisting of:\n",
        "\n",
        "$$\n",
        "\\begin{bmatrix}\n",
        "    -c_{1} & -c_{2} & \\dots  & c_{n} & 0 & \\dots & 0 & 0 \\\\\n",
        "    A_{11} & A_{12} & \\dots  & A_{1n} & 1 & \\dots & 0 & b_{1} \\\\\n",
        "    \\vdots & \\vdots & \\ddots & \\vdots & 0 & \\ddots & 0 & \\vdots \\\\\n",
        "    A_{m1} & A_{m2} & \\dots  & A_{mn} & 0 & \\dots & 1 & b_{m}\n",
        "\\end{bmatrix}\n",
        "$$\n",
        "\n",
        "where $m$ is the number of constraints and $n$ is the number o variables of interest."
      ]
    },
    {
      "cell_type": "code",
      "metadata": {
        "id": "EoZ274VpCCFT"
      },
      "source": [
        "def build_tableaux(A, c, b):\n",
        "  ncons, nvars = A.shape\n",
        "  cn = [ -i for i in c ]\n",
        "\n",
        "  tableaux = np.zeros((ncons + 1, nvars + ncons + 1))\n",
        "  tableaux[1:, :nvars] = A\n",
        "  tableaux[1:, nvars:-1] = np.identity(ncons)\n",
        "  tableaux[0, :-1] = np.append(cn, np.zeros(ncons))\n",
        "  tableaux[1:, -1] = b\n",
        "  return tableaux"
      ],
      "execution_count": null,
      "outputs": []
    },
    {
      "cell_type": "markdown",
      "metadata": {
        "id": "Ka8OKa9t-ayC"
      },
      "source": [
        "### Simplex helpers\n",
        "\n",
        "During the execution of each iteration of the simplex, we must choose an element from a column that represents a variable that can potentially increase the value of the objective function to be the pivot of that iteration. To do so, we must choose the element of given column j that satisfies:\n",
        "\n",
        "$$\n",
        "t = min \\lbrace \\frac{b_i}{A_{ij}} : A_{ij} > 0 \\rbrace\n",
        "$$\n",
        "\n",
        "given the tableaux and the column $j$, ```choose_pivot(tableaux, col)``` returns the index $i$ of $t$.\n",
        "\n",
        "After obtaining the index to the pivot, ```pivot_element(tableaux, operations, lin, col)``` is responsible for performing the pivoting operations over the tableaux and register all of those operations on our operations registry matrix.\n",
        "\n",
        "Finally, ```get_solution(tableaux)``` extracts the value of the variables of interest from the solved tableaux. On the event of an unbounded LP, given it's tableaux and a column ```col``` representing the variable that makes that LP unbounded, ```get_unbounded_certificate(tableaux, col)``` retrieves a certificate of unboundness for the LP."
      ]
    },
    {
      "cell_type": "code",
      "metadata": {
        "id": "UI1HEMNxT2_0"
      },
      "source": [
        "def choose_pivot(tableaux, col):\n",
        "  values = np.zeros(tableaux.shape[0] - 1)\n",
        "  \n",
        "  for i in range(1, tableaux.shape[0]):\n",
        "    if tableaux[i, col] > 0:\n",
        "      values[i - 1] = tableaux[i, -1] / tableaux[i, col]\n",
        "    else:\n",
        "      values[i - 1] = math.inf\n",
        "  \n",
        "  return list(values).index(min(values)) + 1"
      ],
      "execution_count": null,
      "outputs": []
    },
    {
      "cell_type": "code",
      "metadata": {
        "id": "rBHYCBqPcmOG"
      },
      "source": [
        "def pivot_element(tableaux, operations, lin, col):\n",
        "  pivot_value = tableaux[lin, col]\n",
        "  tableaux[lin] = tableaux[lin] / pivot_value\n",
        "  operations[lin] = operations[lin] / pivot_value\n",
        "  \n",
        "  for i in range(tableaux.shape[0]):\n",
        "    if i != lin:\n",
        "      multiplier = -tableaux[i, col]\n",
        "      tableaux[i] = tableaux[i] + (tableaux[lin] * multiplier)\n",
        "      operations[i] = operations[i] + (operations[lin] * multiplier)"
      ],
      "execution_count": null,
      "outputs": []
    },
    {
      "cell_type": "code",
      "metadata": {
        "id": "GudAeSUGg7Gb"
      },
      "source": [
        "def get_solution(tableaux):\n",
        "  x = np.zeros(tableaux.shape[1] - 1)\n",
        "\n",
        "  for i in range(len(x)):\n",
        "    if is_canonical(tableaux[:, i]):\n",
        "      x[i] = tableaux[list(tableaux[:, i]).index(1), -1]\n",
        "      \n",
        "  return x"
      ],
      "execution_count": null,
      "outputs": []
    },
    {
      "cell_type": "code",
      "metadata": {
        "id": "4qFIHlx9cN9l"
      },
      "source": [
        "def get_unbounded_certificate(tableaux, col):\n",
        "  certificate = np.zeros(tableaux.shape[1] - 1)\n",
        "\n",
        "  for i in range(len(certificate)):\n",
        "    if i == col:\n",
        "      certificate[i] = 1\n",
        "    elif is_canonical(tableaux[:, i]):\n",
        "      pivot_line = list(tableaux[:, i]).index(1)\n",
        "      certificate[i] = -tableaux[pivot_line, col]\n",
        "\n",
        "  return certificate[:tableaux.shape[0] - 1]"
      ],
      "execution_count": null,
      "outputs": []
    },
    {
      "cell_type": "markdown",
      "metadata": {
        "id": "d769NdkhBTiV"
      },
      "source": [
        "## Simplex execution\n",
        "\n",
        "This implementation reffers to a two phase simplex algorithm, therefore we first build and solve an auxiliary LP to determine wheter the origin LP is viable or unviable."
      ]
    },
    {
      "cell_type": "markdown",
      "metadata": {
        "id": "KIkwLOQ3DCJO"
      },
      "source": [
        "### Solving a known viable LP\n",
        "\n",
        "The ```solve(tableaux, [previous_operations = None])``` function creates an operations registry matrix and performs pivoting operations over the received tableaux until it is in it's optimal form. It can optionally receive a ```previous_operations``` matrix that is also a operations registry containing a set of operations already performed over that tableaux, this option is used during the first phase of the simplex where we need to solve an auxiliary LP."
      ]
    },
    {
      "cell_type": "code",
      "metadata": {
        "id": "K3WaSrIUDp4k"
      },
      "source": [
        "def solve(tableaux, previous_operations = None):\n",
        "  ncons = tableaux.shape[0] - 1\n",
        "  operations = np.append(np.zeros(ncons), np.identity(ncons)).reshape((ncons + 1, ncons))\n",
        "\n",
        "  if previous_operations is not None:\n",
        "    operations = previous_operations\n",
        "\n",
        "  while not is_optimal(tableaux):\n",
        "    pivot_col = [ i for i, c in enumerate(tableaux[0, :-1]) if c < 0][0]\n",
        "\n",
        "    if is_unbounded(tableaux, pivot_col):\n",
        "      raise UnboundedLinearProgramming(get_unbounded_certificate(tableaux, pivot_col))\n",
        "      \n",
        "    pivot_lin = choose_pivot(tableaux, pivot_col)\n",
        "    pivot_element(tableaux, operations, pivot_lin, pivot_col)\n",
        "\n",
        "  return (tableaux, operations)"
      ],
      "execution_count": null,
      "outputs": []
    },
    {
      "cell_type": "markdown",
      "metadata": {
        "id": "NQYgJ6pdEq41"
      },
      "source": [
        "## Checking if a LP is viable\n",
        "\n",
        "However, prior to using the ```solve``` function, we must determine the viability of our LP, thus, we build an auxiliary LP that is guaranteed to be viable and that can indicate one of two cases:\n",
        "\n",
        "* it's optimal value is 0, in which case the original LP is viable\n",
        "* it's optimal value is less than 0, in which case, our original LP is unviable\n",
        "\n",
        "For that we build a tableaux of form:\n",
        "\n",
        "$$\n",
        "\\begin{bmatrix}\n",
        "    0 & 0 & \\dots  & 0 & 1 & \\dots & 1 & 0 \\\\\n",
        "    A^{'}_{11} & A^{'}_{12} & \\dots  & A^{'}_{1n} & 1 & \\dots & 0 & b^{'}_{1} \\\\\n",
        "    \\vdots & \\vdots & \\ddots & \\vdots & 0 & \\ddots & 0 & \\vdots \\\\\n",
        "    A^{'}_{m1} & A^{'}_{m2} & \\dots  & A^{'}_{mn} & 0 & \\dots & 1 & b^{'}_{m}\n",
        "\\end{bmatrix}\n",
        "$$\n",
        "\n",
        "where $$\n",
        "b^{'}_{i} = \\begin{cases}\n",
        "  b_{i} & \\text{if } b_{i} >= 0 \\\\\n",
        "  -b_{i} & \\text{if } b_{i} < 0\n",
        "\\end{cases}\n",
        "$$ \n",
        "and \n",
        "$$\n",
        "A^{'}_{ij} = \\begin{cases}\n",
        "  A_{ij} & \\text{if } b_{i} >= 0 \\\\\n",
        "  -A_{ij} & \\text{if } b_{i} < 0\n",
        "\\end{cases}\n",
        "$$\n",
        "\n",
        "then we register the transofrmations made in $A^{'}$ and $b^{'}$ in an operations registry matrix and solve the tableaux."
      ]
    },
    {
      "cell_type": "code",
      "metadata": {
        "id": "jymycDIxjaoE"
      },
      "source": [
        "def is_viable(A, b):\n",
        "  A2 = np.copy(A)\n",
        "  b2 = np.copy(b)\n",
        "  ncons, nvars = A.shape\n",
        "\n",
        "  for i in range(len(b)):\n",
        "    if b[i] < 0:\n",
        "      b2[i] *= -1\n",
        "      A2[i] *= -1\n",
        "  \n",
        "  tableaux = build_tableaux(A2, np.zeros(nvars), b2)\n",
        "  tableaux[0, nvars:-1] = np.ones(ncons)\n",
        "  # print('Initial:')\n",
        "  # print(tableaux)\n",
        "  operations = operations = np.append(np.zeros(ncons), np.identity(ncons)).reshape((ncons + 1, ncons))\n",
        "\n",
        "  for i in range(ncons):\n",
        "    pivot_element(tableaux, operations, i + 1, nvars + i)\n",
        "\n",
        "  # print('Pivoted:')\n",
        "  # print(tableaux)\n",
        "  tableaux, operations = solve(tableaux, operations)\n",
        "  # print('Solved:')\n",
        "  # print(tableaux)\n",
        "  return (tableaux[0, -1] == 0, operations[0])"
      ],
      "execution_count": null,
      "outputs": []
    },
    {
      "cell_type": "markdown",
      "metadata": {
        "id": "Y_ii7PZ3IMGH"
      },
      "source": [
        "## Solving with simplex\n",
        "\n",
        "Finally, we can use ```simplex(c, A, b)``` to wrap al the auxiliary functions and solve our LP. The ```simplex``` will verify a few constraints that are required for it to work (basically verify if the LP is well formated), then check if the provided LP is viable, if so, it proceeds to solving it. The function returns a 3-tuple containing the solution vector for x, the optimal value and the certificate of the LP."
      ]
    },
    {
      "cell_type": "code",
      "metadata": {
        "id": "cD_c0-f2zziN"
      },
      "source": [
        "# Assumes that the LP is described by A, c and b in form:\n",
        "#  max cx \n",
        "# s.t. Ax <= b : x > 0\n",
        "def simplex(c, A, b):\n",
        "  ncons, nvars = A.shape\n",
        "\n",
        "  if not len(c) == nvars:\n",
        "    raise AssertionError('Incorrect number of coeficients')\n",
        "\n",
        "  if not len(b) == ncons:\n",
        "    raise AssertionError('Incorrect number of constraints')\n",
        "\n",
        "  is_solvable, unsolvable_certificate = is_viable(A, b)\n",
        "  if not is_solvable:\n",
        "    raise UnsolvableLinearProgramming(unsolvable_certificate)\n",
        "\n",
        "  tableaux = build_tableaux(A, c, b)\n",
        "  tableaux, operations = solve(tableaux)\n",
        "  x = get_solution(tableaux)\n",
        "\n",
        "  return (x[:nvars], tableaux[0, -1], operations[0])"
      ],
      "execution_count": null,
      "outputs": []
    },
    {
      "cell_type": "markdown",
      "metadata": {
        "id": "7IXo7u4CBQqN"
      },
      "source": [
        "## Examples"
      ]
    },
    {
      "cell_type": "markdown",
      "metadata": {
        "id": "bmKzDw6oJeQv"
      },
      "source": [
        "### Viable scenario"
      ]
    },
    {
      "cell_type": "code",
      "metadata": {
        "colab": {
          "base_uri": "https://localhost:8080/"
        },
        "id": "jh0YiAH_1Rnl",
        "outputId": "e8391495-1b56-416b-bff1-238adfacaeac"
      },
      "source": [
        "c = np.array([3, 2, 4])\n",
        "A = np.array([[1, 1, 2],\n",
        "              [2, 0, 3],\n",
        "              [2, 1, 3]])\n",
        "b = np.array([4, 5, 7])\n",
        "\n",
        "try:\n",
        "  x, value, certificate = simplex(c, A, b)\n",
        "except AssertionError as e:\n",
        "  print(\"Invalid linear programming: \", str(e))\n",
        "except (UnboundedLinearProgramming, UnsolvableLinearProgramming) as e:\n",
        "  print(str(e))\n",
        "else:\n",
        "  print(\"Solution: \", str(x))\n",
        "  print(\"Optimal value: \", str(value))\n",
        "  print(\"Certificate: \", str(certificate))"
      ],
      "execution_count": null,
      "outputs": [
        {
          "output_type": "stream",
          "text": [
            "Solution:  [2.5 1.5 0. ]\n",
            "Optimal value:  10.5\n",
            "Certificate:  [2.  0.5 0. ]\n"
          ],
          "name": "stdout"
        }
      ]
    },
    {
      "cell_type": "code",
      "metadata": {
        "colab": {
          "base_uri": "https://localhost:8080/"
        },
        "id": "v8d4R6vox3ew",
        "outputId": "60e9c09a-a3d1-47d3-f3ce-d0dfa7bc8c85"
      },
      "source": [
        "c = np.array([3, 2])\n",
        "A = np.array([[2, 1],\n",
        "              [1, 2],\n",
        "              [1, 1]])\n",
        "b = np.array([8, 8, 5])\n",
        "\n",
        "try:\n",
        "  x, value, certificate = simplex(c, A, b)\n",
        "except AssertionError as e:\n",
        "  print(\"Invalid linear programming: \", str(e))\n",
        "except (UnboundedLinearProgramming, UnsolvableLinearProgramming) as e:\n",
        "  print(str(e))\n",
        "else:\n",
        "  print(\"Solution: \", str(x))\n",
        "  print(\"Optimal value: \", str(value))\n",
        "  print(\"Certificate: \", str(certificate))"
      ],
      "execution_count": null,
      "outputs": [
        {
          "output_type": "stream",
          "text": [
            "Linear programming has no solution, certificate = [-1. -1.  3.]\n"
          ],
          "name": "stdout"
        }
      ]
    },
    {
      "cell_type": "markdown",
      "metadata": {
        "id": "mP3UXemuJlHA"
      },
      "source": [
        "### Unviable scenario"
      ]
    },
    {
      "cell_type": "code",
      "metadata": {
        "colab": {
          "base_uri": "https://localhost:8080/"
        },
        "id": "XXlHXel2viXx",
        "outputId": "869ea664-5f43-4718-fe54-5fb6a5baae8e"
      },
      "source": [
        "c = np.array([6, -5, 1])\n",
        "A = np.array([[1, -3, 7],\n",
        "              [-1, 5, -10]])\n",
        "b = np.array([-1, 1])\n",
        "\n",
        "try:\n",
        "  x, value, certificate = simplex(c, A, b)\n",
        "except AssertionError as e:\n",
        "  print(\"Invalid linear programming: \", str(e))\n",
        "except (UnboundedLinearProgramming, UnsolvableLinearProgramming) as e:\n",
        "  print(str(e))\n",
        "else:\n",
        "  print(\"Solution: \", str(x))\n",
        "  print(\"Optimal value: \", str(value))\n",
        "  print(\"Certificate: \", str(certificate))"
      ],
      "execution_count": null,
      "outputs": [
        {
          "output_type": "stream",
          "text": [
            "Linear programming has no solution, certificate = [-1.   0.6]\n"
          ],
          "name": "stdout"
        }
      ]
    },
    {
      "cell_type": "markdown",
      "metadata": {
        "id": "S1XzxKawJorR"
      },
      "source": [
        "## Unbounded scenario"
      ]
    },
    {
      "cell_type": "code",
      "metadata": {
        "colab": {
          "base_uri": "https://localhost:8080/"
        },
        "id": "8DfJnrblKRSb",
        "outputId": "53b5bc25-bed4-47a2-8e21-305bf6ebf9c7"
      },
      "source": [
        "c = np.array([5, 3, 1])\n",
        "A = np.array([[-2, 4, 1],\n",
        "              [-3, 7, 1]])\n",
        "b = np.array([1, 3])\n",
        "\n",
        "try:\n",
        "  x, value, certificate = simplex(c, A, b)\n",
        "except AssertionError as e:\n",
        "  print(\"Invalid linear programming: \", str(e))\n",
        "except (UnboundedLinearProgramming, UnsolvableLinearProgramming) as e:\n",
        "  print(str(e))\n",
        "else:\n",
        "  print(\"Solution: \", str(x))\n",
        "  print(\"Optimal value: \", str(value))\n",
        "  print(\"Certificate: \", str(certificate))"
      ],
      "execution_count": null,
      "outputs": [
        {
          "output_type": "stream",
          "text": [
            "Optimal value is infinite, certificate = [1. 0.]\n"
          ],
          "name": "stdout"
        }
      ]
    }
  ]
}